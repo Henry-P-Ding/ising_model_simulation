{
 "cells": [
  {
   "cell_type": "markdown",
   "id": "7d45b7e8",
   "metadata": {},
   "source": [
    "# Project Details\n",
    "This project simulates the ferromagnetic to paramagnetic phase transition with temperature using the 2D Ising Model.\n",
    "\n",
    "**April, 5, 2022**\n",
    "\n",
    "**Henry Ding**\n",
    "\n",
    "## Reflection and Revision Process\n",
    "Originally, this documentation contained a theory section with complex math equations that were difficult to understand. This section was simplified with qualitative conceptual explanations and diagrams so that it was easier to understand.\n",
    "\n",
    "The concept of ferromagnetism and paramagnetism was also hard to visualize, so I added a video showing these magnets in real life. This made the abstract physics concepts concrete and easy to understand.\n",
    "\n",
    "My simulation also originally only took a few seconds to run, so I significantly increased the simulation size to simulate many more data points for a more descriptive result graph. This only took a few hours to run, which was manageable."
   ]
  },
  {
   "cell_type": "markdown",
   "id": "c724aada",
   "metadata": {},
   "source": [
    "## Resources\n",
    "### Research\n",
    "- Chapter 35, *Physics*, 5th Edition by Resnick, Halliday, and Krane\n",
    "    - I used this to learn the theory behind ferromagnetism and paramagnetism.\n",
    "\n",
    "\n",
    "- \"Paramagnetism and Diamagnetism\" video from UCLA Physics: https://www.youtube.com/watch?v=u36QpPvEh2c&t=23s\n",
    "    - I used this video to see paramagnetism and ferromagnetic materials in real life and demonstrate both types of materials.\n",
    "    \n",
    "    \n",
    "- \"The Ising model\" by Richard Fitzpatrick at the University of Texas: https://farside.ph.utexas.edu/teaching/329/lectures/node110.html\n",
    "    - I used this to learn about the Ising model, including methods for calculating the Hamiltonian and Boltzmann probability.\n",
    "    \n",
    "    \n",
    "- \"From Scratch: Bayesian Inference, Markov Chain Monte Carlo and Metropolis Hastings, in python\" by Joseph Moukarzel: https://towardsdatascience.com/from-scratch-bayesian-inference-markov-chain-monte-carlo-and-metropolis-hastings-in-python-ef21a29e25a\n",
    "    - I used this article for guides on the Metropolis-Hastings algorithm to speed up the Monte Carlo simulation.\n",
    "    \n",
    "- \"Onsager and Kaufman’s calculation of the spontaneous magnetization of the Ising model\" https://arxiv.org/pdf/1103.3347.pdf\n",
    "    - This paper was used to corroborate the results of my simulation.\n",
    "    \n",
    "- The diagrams were hand-drawn.\n",
    "\n",
    "### Programming\n",
    "- https://stackoverflow.com/questions/51178699/trying-to-display-youtube-video-in-jupyter-notebook\n",
    "    - I used this code snippet to embed a YouTube video into a Jupyter Notebook\n",
    "- https://numpy.org/doc/stable/reference/generated/numpy.ndarray.html\n",
    "    - I used this documentation for NumPy arrays to find out about NumPy array operations used throughout the program.\n",
    "- https://jakevdp.github.io/PythonDataScienceHandbook/\n",
    "    - I used this free online textbook to learn about Jupyter Notebooks and basic NumPy operations."
   ]
  },
  {
   "cell_type": "markdown",
   "id": "5f82b633",
   "metadata": {},
   "source": [
    "# DOCUMENTATION\n",
    "\n",
    "\n",
    "# Theory of the Ising Model\n",
    "## Ferromagnetism and Paramagnetism\n",
    "When you hear about magnets, refrigerator magnets probably pop into your head first. However, there are other types of magnetism:"
   ]
  },
  {
   "cell_type": "code",
   "execution_count": 16,
   "id": "1c69e3a7",
   "metadata": {},
   "outputs": [
    {
     "data": {
      "text/html": [
       "\n",
       "        <iframe\n",
       "            width=\"854\"\n",
       "            height=\"480\"\n",
       "            src=\"https://www.youtube.com/embed/u36QpPvEh2c?start=23&end=51\"\n",
       "            frameborder=\"0\"\n",
       "            allowfullscreen\n",
       "            \n",
       "        ></iframe>\n",
       "        "
      ],
      "text/plain": [
       "<IPython.lib.display.IFrame at 0x7f8399146ee0>"
      ]
     },
     "execution_count": 16,
     "metadata": {},
     "output_type": "execute_result"
    }
   ],
   "source": [
    "from IPython.display import IFrame\n",
    "\n",
    "IFrame(src='https://www.youtube.com/embed/u36QpPvEh2c?start=23&end=51', width=854, height=480)"
   ]
  },
  {
   "cell_type": "markdown",
   "id": "d5c001e8",
   "metadata": {},
   "source": [
    "\n",
    "To summarize, **ferromagnetic** materials are permanent magnets that remain magnetized even after an external magnet is removed, while **paramagnetic** materials are temporary magnets."
   ]
  },
  {
   "cell_type": "markdown",
   "id": "4fd32ded",
   "metadata": {},
   "source": [
    "*Here's where it gets interesting.* When scientists heated up ferromagnetic materials, they found that the strength of a magnet gradually decreased with temperature. Ferromagnets became paramagnets above a certain temperature, known as the **Curie Temperature** (where the graph below touches zero). Here's a plot of **magnetization**, or magnet strength, with temperature for Nickel:\n"
   ]
  },
  {
   "attachments": {
    "NickelMagnetization.gif": {
     "image/gif": "[encoded data removed]"
    }
   },
   "cell_type": "markdown",
   "id": "716fdb1e",
   "metadata": {},
   "source": [
    "![NickelMagnetization.gif](attachment:NickelMagnetization.gif)"
   ]
  },
  {
   "cell_type": "markdown",
   "id": "f16b39a2",
   "metadata": {},
   "source": [
    "This effect can cause problems for scientists. For example, scientists working on a space probe operating in high temperatures near the Sun will need to determine this curve to ensure the probe's magnets to remain operational. However, testing each individual magnetic material requires expensive lab equipment and experience in experimental physics. Here's the question we will investigate with a simulation:"
   ]
  },
  {
   "cell_type": "markdown",
   "id": "c6c88854",
   "metadata": {},
   "source": [
    "## The Question\n",
    "> **What is the magnetization of a magnet at any temperature?**\n",
    "\n",
    "Enter: the Ising Model."
   ]
  },
  {
   "cell_type": "markdown",
   "id": "b57746c4",
   "metadata": {},
   "source": [
    "## The Ising Model"
   ]
  },
  {
   "cell_type": "markdown",
   "id": "870d730a",
   "metadata": {},
   "source": [
    "In 1925, **Ernst Ising** discovered a model for modeling ferromagnetic and paramagnetic materials. Earlier developments in quantum mechanics showed that electrons set up a magnetic field, which is aligned with the **spin of an electron.** For the purposes of our model, the electron spin can be either `+1` or `-1`:"
   ]
  },
  {
   "cell_type": "markdown",
   "id": "bd55dfbb",
   "metadata": {},
   "source": [
    "<div>\n",
    "<img src=\"images/electron_spins.png\" width=\"504\"/>\n",
    "</div>"
   ]
  },
  {
   "cell_type": "markdown",
   "id": "375c6621",
   "metadata": {},
   "source": [
    "Every magnetic material has a large number of electrons. Ising theorized that in ferromagnetic materials, the spins of all these electrons stay aligned. This means the magnetic fields of all the electrons add together to make one large magnetic field, magnetizing the material."
   ]
  },
  {
   "cell_type": "markdown",
   "id": "7451d250",
   "metadata": {},
   "source": [
    "<div>\n",
    "<img src=\"images/ferromagnetic.png\" width=\"503\"/>\n",
    "</div>"
   ]
  },
  {
   "cell_type": "markdown",
   "id": "1ef8df84",
   "metadata": {},
   "source": [
    "In paramagnetic materials, the spins misalign after an external magnetic field is removed. The spins and magnetic fields from each electron begin canceling out, pointing in opposite directions. The total cumulative magnetic field is zero or really close to zero, meaning that the material loses its magnetism."
   ]
  },
  {
   "cell_type": "markdown",
   "id": "576d5d91",
   "metadata": {},
   "source": [
    "<div>\n",
    "<img src=\"images/paramagnetic.png\" width=\"502\"/>\n",
    "</div>"
   ]
  },
  {
   "cell_type": "markdown",
   "id": "d3c1d948",
   "metadata": {},
   "source": [
    "What is happening here between individual electrons? Well, since metals are made out of regular, repeating patterns of atoms, we can model all of a material's electrons by putting them in a repeating grid, which physicists call a **lattice.**"
   ]
  },
  {
   "cell_type": "markdown",
   "id": "1b7bab8a",
   "metadata": {},
   "source": [
    "<div>\n",
    "<img src=\"images/ising_model_lattice.png\" width=\"501\"/>\n",
    "</div>"
   ]
  },
  {
   "cell_type": "markdown",
   "id": "64baa29a",
   "metadata": {},
   "source": [
    "Each box in the lattice shows the spin of that electron.\n",
    "\n",
    "Electrons with a spin that is the same as all of its adjacent neighboring electrons, like the electron highlighted in yellow, are low in energy and stable. Electrons with a spin different from all of their neighbor electrons, like the electron highlighted in green, are energetic and unstable. This makes sense, since aligning the spins is like taking two bar magnets and putting the North end with the South end, while misaligned spins place two North or two South ends together. Two North ends magnets repel each other and increase the energy of the configuration."
   ]
  },
  {
   "cell_type": "markdown",
   "id": "da4d2416",
   "metadata": {},
   "source": [
    "<div>\n",
    "<img src=\"images/magnet_analogy.png\" width=\"250\"/>\n",
    "</div>"
   ]
  },
  {
   "cell_type": "markdown",
   "id": "5c6c5d8f",
   "metadata": {},
   "source": [
    "**All electrons want to have the lowest energy.** Otherwise, repulsion from misaligned neighbors would force electron spins to change, lowering their energy. Why then, do the spins of the paramagnetic materials misalign over time?"
   ]
  },
  {
   "cell_type": "markdown",
   "id": "92379501",
   "metadata": {},
   "source": [
    "Well, physicists know that all materials with temperature have random thermal energy from the vibration of electrons and atoms. The Ising Model predicts that this random thermal energy has a chance to occasionally gives an electron energy to flip the sign of their spin into a misaligned position. When an electron changes its spin, this is known as a **spin-flip.**"
   ]
  },
  {
   "cell_type": "markdown",
   "id": "8df40c23",
   "metadata": {},
   "source": [
    "<div>\n",
    "<img src=\"images/thermal_energy.png\" width=\"499\"/>\n",
    "</div>"
   ]
  },
  {
   "cell_type": "markdown",
   "id": "88c7cf27",
   "metadata": {},
   "source": [
    "We can use a concept known as the *Boltzmann distribution* to find the probability of a **spin-flip** occurring in our simulation."
   ]
  },
  {
   "cell_type": "markdown",
   "id": "f4532e2c",
   "metadata": {},
   "source": [
    "Do multiple spin flips occur at the same time? Well, it turns out that the thermal energy of a system is usually very low compared to the change in energy it takes for a spin-flip. So, it is very unlikely for enough random thermal energy to be concentrated at any moment for multiple spin-flips. This is great since we can use an approximation known as **single-spin flip dynamics**, need to only flip a single spin at a time in our simulation."
   ]
  },
  {
   "cell_type": "markdown",
   "id": "3ee3893a",
   "metadata": {},
   "source": [
    "## The Simulation\n",
    "Now, we finally have all theoretical physics in place to write our computer simulation of the Ising Model. Here are some key features of our model:\n",
    "1. A data structure store the electron spins of all electrons in our lattice. We’ll use a 2D NumPy array for a 10 $\\times$ 10 lattice.\n",
    "\n",
    "\n",
    "2. A method to select a random electron spin to flip. Every electron in our lattice is equally likely to receive thermal energy for a spin flip.\n",
    "\n",
    "\n",
    "3. A function that calculates the probability of an electron-spin flip occurring, using the Boltzmann distribution.\n",
    "    - If this probability is greater than one (which happens if the spin-flip happens to bring the electron to lower energy), then the electron will always flip. \n",
    "    - If this probability is less than one, there's a chance of the spin-flip.\n",
    "    \n",
    "    \n",
    "4. A method to calculate the magnetization (the magnetic strength) of the material. \n",
    "    - We can find the mean spin of the electrons: if the electron spins are aligned, then the mean is not equal to zero and the material is magnetic; otherwise, the average is zero and the material is nonmagnetic.\n",
    "    \n",
    "    \n",
    "5. Repeated trials to measure magnetization at different temperatures.\n",
    "\n",
    "## Why Monte Carlo?\n",
    "For the Ising Model, we need a Monte Carlo simulation. For just a 10 $\\times$ 10 lattice, there are 100 different electrons that flip at every step. Over millions of steps, there are an unfathomable number of distinct configurations, so we'll need a random Monte Carlo simulation to find the most likely outcome, which is the most likely magnetization in our simulation at a certain temperature.\n",
    "\n",
    "Let's get programming!"
   ]
  },
  {
   "cell_type": "markdown",
   "id": "5a6a5407",
   "metadata": {},
   "source": [
    "# Implementation"
   ]
  },
  {
   "cell_type": "markdown",
   "id": "c6e18bb8",
   "metadata": {},
   "source": [
    "`numpy` is used for mathematical operations, while `matplotlib` is used to graph the results."
   ]
  },
  {
   "cell_type": "code",
   "execution_count": 2,
   "id": "3f88280b",
   "metadata": {},
   "outputs": [],
   "source": [
    "import numpy as np\n",
    "import matplotlib.pyplot as plt"
   ]
  },
  {
   "cell_type": "markdown",
   "id": "b64a1a30",
   "metadata": {},
   "source": [
    "This method finds the positions of nearest neighbors of a electron at position ``pos`` in a lattice."
   ]
  },
  {
   "cell_type": "code",
   "execution_count": 3,
   "id": "a51f0a7c",
   "metadata": {},
   "outputs": [],
   "source": [
    "def find_nn(lattice, pos):\n",
    "    '''\n",
    "    Finds the adjacent neighbors of a lattice position in a simple cubic lattice.\n",
    "    '''\n",
    "    # tiles position into an array of 4 position arrays, and adds relative positions of neighbors\n",
    "    positions = np.tile(pos, (4, 1)) + np.array([[-1, 0], [0, -1], [1, 0], [0, 1]]);\n",
    "    \n",
    "    return positions"
   ]
  },
  {
   "cell_type": "markdown",
   "id": "29ddbb9d",
   "metadata": {},
   "source": [
    "Here's the Monte Carlo function to simulate the evolution of our electron lattice for random spin flips over time"
   ]
  },
  {
   "cell_type": "code",
   "execution_count": 4,
   "id": "7ef3a769",
   "metadata": {},
   "outputs": [],
   "source": [
    "def mc_ising(lattice_i, interaction_coefficient, temperature, n_steps, burn_steps):\n",
    "    '''\n",
    "    This function uses a Monte Carlo simulation to track the evolution of an Ising Model over time.\n",
    "    \n",
    "    Arguments:\n",
    "    - lattice_i: the initial electron lattice, requires a numpy.ndarray\n",
    "    - interaction_coefficient: the ratio J/k used to scale the strength of interactions between different spins\n",
    "    - temperature: the temperature of the lattice\n",
    "    - n_steps: the number of Monte Carlo steps to run on the simulation\n",
    "    - burn_steps: number of initial Monte Carlo steps to ignore, to give time for the material to adjust to the temperature\n",
    "    \n",
    "    Returns:\n",
    "    - A history of the lattice over all Monte Carlo steps\n",
    "    '''\n",
    "    # check that input lattice is two-dimensional\n",
    "    assert lattice_i.ndim == 2, 'Lattice must be two-dimensional, but has dimension {0}'.format(lattice_i.ndim)\n",
    "    lattice = lattice_i.copy()\n",
    "    width, height = lattice.shape\n",
    "    lattice_history = [lattice]\n",
    "    \n",
    "    for step in range(n_steps):\n",
    "        # randomly choose a position in the lattice to spin-flip within the boundaries of the lattice\n",
    "        pos_flip = np.array([np.random.randint(width), np.random.randint(height)])\n",
    "        \n",
    "        neighbors = find_nn(lattice, pos_flip)\n",
    "        # sum of neighbor spins\n",
    "        spin_sum = 0\n",
    "        for n in neighbors:\n",
    "            spin_sum += lattice[n[0] % width, n[1] % height]\n",
    "        \n",
    "        # natural log of flip probability\n",
    "        ln_p = -2 * interaction_coefficient / temperature * lattice[pos_flip[0], pos_flip[1]] * spin_sum\n",
    "        \n",
    "        # determine whether to flip based on probability - if greater than ln(1), always flip, other wise flip based on random chance\n",
    "        if ln_p > 0 or ln_p > np.log(np.random.random()):\n",
    "            # flip spin\n",
    "            lattice[pos_flip[0], pos_flip[1]] *= -1\n",
    "            if step >= burn_steps :\n",
    "                lattice_history.append(lattice.copy())\n",
    "                \n",
    "    return np.array(lattice_history)  "
   ]
  },
  {
   "cell_type": "markdown",
   "id": "4e6395f4",
   "metadata": {},
   "source": [
    "Now let's simulate the evolution of our electron lattice overtime at different temperature values. We'll start with a lattice of entirely aligned electron spins of $+1$."
   ]
  },
  {
   "cell_type": "code",
   "execution_count": 38,
   "id": "6a2bb04c",
   "metadata": {},
   "outputs": [
    {
     "name": "stdout",
     "output_type": "stream",
     "text": [
      "Testing temperature 1.5\n",
      "Testing temperature 1.51\n",
      "Testing temperature 1.52\n",
      "Testing temperature 1.53\n",
      "Testing temperature 1.54\n",
      "Testing temperature 1.55\n",
      "Testing temperature 1.56\n",
      "Testing temperature 1.57\n",
      "Testing temperature 1.58\n",
      "Testing temperature 1.59\n",
      "Testing temperature 1.6\n",
      "Testing temperature 1.61\n",
      "Testing temperature 1.62\n",
      "Testing temperature 1.6300000000000001\n",
      "Testing temperature 1.6400000000000001\n",
      "Testing temperature 1.6500000000000001\n",
      "Testing temperature 1.6600000000000001\n",
      "Testing temperature 1.6700000000000002\n",
      "Testing temperature 1.6800000000000002\n",
      "Testing temperature 1.6900000000000002\n",
      "Testing temperature 1.7000000000000002\n",
      "Testing temperature 1.7100000000000002\n",
      "Testing temperature 1.7200000000000002\n",
      "Testing temperature 1.7300000000000002\n",
      "Testing temperature 1.7400000000000002\n",
      "Testing temperature 1.7500000000000002\n",
      "Testing temperature 1.7600000000000002\n",
      "Testing temperature 1.7700000000000002\n",
      "Testing temperature 1.7800000000000002\n",
      "Testing temperature 1.7900000000000003\n",
      "Testing temperature 1.8000000000000003\n",
      "Testing temperature 1.8100000000000003\n",
      "Testing temperature 1.8200000000000003\n",
      "Testing temperature 1.8300000000000003\n",
      "Testing temperature 1.8400000000000003\n",
      "Testing temperature 1.8500000000000003\n",
      "Testing temperature 1.8600000000000003\n",
      "Testing temperature 1.8700000000000003\n",
      "Testing temperature 1.8800000000000003\n",
      "Testing temperature 1.8900000000000003\n",
      "Testing temperature 1.9000000000000004\n",
      "Testing temperature 1.9100000000000004\n",
      "Testing temperature 1.9200000000000004\n",
      "Testing temperature 1.9300000000000004\n",
      "Testing temperature 1.9400000000000004\n",
      "Testing temperature 1.9500000000000004\n",
      "Testing temperature 1.9600000000000004\n",
      "Testing temperature 1.9700000000000004\n",
      "Testing temperature 1.9800000000000004\n",
      "Testing temperature 1.9900000000000004\n",
      "Testing temperature 2.0000000000000004\n",
      "Testing temperature 2.0100000000000007\n",
      "Testing temperature 2.0200000000000005\n",
      "Testing temperature 2.0300000000000002\n",
      "Testing temperature 2.0400000000000005\n",
      "Testing temperature 2.0500000000000007\n",
      "Testing temperature 2.0600000000000005\n",
      "Testing temperature 2.0700000000000003\n",
      "Testing temperature 2.0800000000000005\n",
      "Testing temperature 2.0900000000000007\n",
      "Testing temperature 2.1000000000000005\n",
      "Testing temperature 2.1100000000000003\n",
      "Testing temperature 2.1200000000000006\n",
      "Testing temperature 2.130000000000001\n",
      "Testing temperature 2.1400000000000006\n",
      "Testing temperature 2.1500000000000004\n",
      "Testing temperature 2.1600000000000006\n",
      "Testing temperature 2.170000000000001\n",
      "Testing temperature 2.1800000000000006\n",
      "Testing temperature 2.1900000000000004\n",
      "Testing temperature 2.2000000000000006\n",
      "Testing temperature 2.210000000000001\n",
      "Testing temperature 2.2200000000000006\n",
      "Testing temperature 2.2300000000000004\n",
      "Testing temperature 2.2400000000000007\n",
      "Testing temperature 2.250000000000001\n",
      "Testing temperature 2.2600000000000007\n",
      "Testing temperature 2.2700000000000005\n",
      "Testing temperature 2.2800000000000007\n",
      "Testing temperature 2.290000000000001\n",
      "Testing temperature 2.3000000000000007\n",
      "Testing temperature 2.3100000000000005\n",
      "Testing temperature 2.3200000000000007\n",
      "Testing temperature 2.330000000000001\n",
      "Testing temperature 2.3400000000000007\n",
      "Testing temperature 2.3500000000000005\n",
      "Testing temperature 2.3600000000000008\n",
      "Testing temperature 2.370000000000001\n",
      "Testing temperature 2.380000000000001\n",
      "Testing temperature 2.3900000000000006\n",
      "Testing temperature 2.400000000000001\n",
      "Testing temperature 2.410000000000001\n",
      "Testing temperature 2.420000000000001\n",
      "Testing temperature 2.4300000000000006\n",
      "Testing temperature 2.440000000000001\n",
      "Testing temperature 2.450000000000001\n",
      "Testing temperature 2.460000000000001\n",
      "Testing temperature 2.4700000000000006\n",
      "Testing temperature 2.480000000000001\n",
      "Testing temperature 2.490000000000001\n",
      "Testing temperature 2.500000000000001\n",
      "Testing temperature 2.5100000000000007\n",
      "Testing temperature 2.520000000000001\n",
      "Testing temperature 2.530000000000001\n",
      "Testing temperature 2.540000000000001\n",
      "Testing temperature 2.5500000000000007\n",
      "Testing temperature 2.560000000000001\n",
      "Testing temperature 2.570000000000001\n",
      "Testing temperature 2.580000000000001\n",
      "Testing temperature 2.5900000000000007\n",
      "Testing temperature 2.600000000000001\n",
      "Testing temperature 2.610000000000001\n",
      "Testing temperature 2.620000000000001\n",
      "Testing temperature 2.630000000000001\n",
      "Testing temperature 2.640000000000001\n",
      "Testing temperature 2.6500000000000012\n",
      "Testing temperature 2.660000000000001\n",
      "Testing temperature 2.670000000000001\n",
      "Testing temperature 2.680000000000001\n",
      "Testing temperature 2.6900000000000013\n",
      "Testing temperature 2.700000000000001\n",
      "Testing temperature 2.710000000000001\n",
      "Testing temperature 2.720000000000001\n",
      "Testing temperature 2.7300000000000013\n",
      "Testing temperature 2.740000000000001\n",
      "Testing temperature 2.750000000000001\n",
      "Testing temperature 2.760000000000001\n",
      "Testing temperature 2.7700000000000014\n",
      "Testing temperature 2.780000000000001\n",
      "Testing temperature 2.790000000000001\n",
      "Testing temperature 2.800000000000001\n",
      "Testing temperature 2.8100000000000014\n",
      "Testing temperature 2.820000000000001\n",
      "Testing temperature 2.830000000000001\n",
      "Testing temperature 2.840000000000001\n",
      "Testing temperature 2.8500000000000014\n",
      "Testing temperature 2.860000000000001\n",
      "Testing temperature 2.870000000000001\n",
      "Testing temperature 2.8800000000000012\n",
      "Testing temperature 2.8900000000000015\n",
      "Testing temperature 2.9000000000000012\n",
      "Testing temperature 2.910000000000001\n",
      "Testing temperature 2.9200000000000013\n",
      "Testing temperature 2.9300000000000015\n",
      "Testing temperature 2.9400000000000013\n",
      "Testing temperature 2.950000000000001\n",
      "Testing temperature 2.9600000000000013\n",
      "Testing temperature 2.9700000000000015\n",
      "Testing temperature 2.9800000000000013\n",
      "Testing temperature 2.990000000000001\n"
     ]
    }
   ],
   "source": [
    "# declares lattice array and sets spins for initial lattice\n",
    "INIT_LATTICE = np.ones((10, 10))\n",
    "\n",
    "temperature_values = np.arange(1.5, 3, 0.01)\n",
    "# the magnetization, the strength of our magnet\n",
    "M_values = []\n",
    "\n",
    "# testing different temperature values\n",
    "for t in temperature_values:\n",
    "    print(\"Testing temperature {0}\".format(t))\n",
    "    # 1,000,000 Monte Carlo trials are run, with the first 100,000 steps burned\n",
    "    # A kJ product of 1 is used\n",
    "    lattice_history = mc_ising(INIT_LATTICE, 1, t, 1000000, 100000)\n",
    "    # adds average magnetization\n",
    "    M_values.append(abs(np.mean(lattice_history)))"
   ]
  },
  {
   "cell_type": "markdown",
   "id": "0aa285a5",
   "metadata": {},
   "source": [
    "Let's plot our results with net magnetization v.s. temperature."
   ]
  },
  {
   "cell_type": "code",
   "execution_count": 43,
   "id": "49be9802",
   "metadata": {
    "scrolled": false
   },
   "outputs": [
    {
     "data": {
      "image/png": "[encoded data removed]",
      "text/plain": [
       "<Figure size 1080x504 with 1 Axes>"
      ]
     },
     "metadata": {
      "needs_background": "light"
     },
     "output_type": "display_data"
    }
   ],
   "source": [
    "# create one plot\n",
    "fig, ax = plt.subplots()\n",
    "fig.set_size_inches(15, 7)\n",
    "\n",
    "# graph magnetization v.s. temperature - line and points\n",
    "ax.plot(temperature_values, [abs(x) for x in M_values], color='maroon')\n",
    "ax.scatter(temperature_values, [abs(x) for x in M_values], marker='x', color='red', s=50)\n",
    "\n",
    "# labels\n",
    "ax.set_title(\"Magnetization for Different Temperatures\")\n",
    "ax.set_xlabel(\"Temperature\")\n",
    "ax.set_ylabel(\"Absolute Magnetization\")\n",
    "ax.axhline(y=0, color='black', linestyle='-')\n",
    "\n",
    "plt.show()"
   ]
  },
  {
   "cell_type": "markdown",
   "id": "d38e316d",
   "metadata": {},
   "source": [
    "# Result Analysis"
   ]
  },
  {
   "cell_type": "markdown",
   "id": "7a8f21bd",
   "metadata": {},
   "source": [
    "Besides certain outlier temperature values, the graph mostly matches the curve for Nickel Magnetization v.s. Temperature graph at the start of this document. The magnetization slowly decreases with temperature before rapidly dropping down to zero within just a few temperature increments. \n",
    "\n",
    "In order for a material to become significantly demagnetized, the temperature needs to reach a point where the rate of spin misaligning due to thermal energy needs to be higher than the rate of spin aligning from lowering energy. Below this point, there are only occasional blips of misaligned spins throughout the lattice that eventually get aligned at some later time. However, past the point where the rate of misalignment is higher than alignment, any small blips of misaligned spins are able to sustainably grow, quickly dominating the lattice with large regions of misaligned spins. This explains why the magnetization decreases relatively slowly until temperature reaches a certain point and magnetization drops suddenly - the graph had reached that critical temperature where the rates of alignment and misaligned were equal."
   ]
  },
  {
   "cell_type": "markdown",
   "id": "08714dab",
   "metadata": {},
   "source": [
    "<div>\n",
    "<img src=\"images/results_analysis.png\" width=\"700\"/>\n",
    "</div>"
   ]
  },
  {
   "cell_type": "markdown",
   "id": "778aab95",
   "metadata": {},
   "source": [
    "The Curie Temperature on the graph, where magnetization reaches zero, is roughly around 2.2-2.4. This matches well with the results from research by Lars Onsager in the 1970s! Onsager found the value to be around 2.27.\n",
    "\n",
    "The presence of outliers of zero magnetization at 2.0 temperature and around 2.1 temperature are likely due to random variations in the simulation. During certain trials, there could have been enough spin flips to create a large region of semi-stable misaligned spins that group together in order to reduce the chance of their spins realigning (since two misaligned spins of $-1$ will not repel). These random large blobs of misalignment might have existed long enough to significantly reduce the average magnetization measured at the end, producing these outliers."
   ]
  },
  {
   "cell_type": "markdown",
   "id": "328b0289",
   "metadata": {},
   "source": [
    "<div>\n",
    "<img src=\"images/results_analysis2.png\" width=\"500\"/>\n",
    "</div>"
   ]
  }
 ],
 "metadata": {
  "kernelspec": {
   "display_name": "Python 3 (ipykernel)",
   "language": "python",
   "name": "python3"
  },
  "language_info": {
   "codemirror_mode": {
    "name": "ipython",
    "version": 3
   },
   "file_extension": ".py",
   "mimetype": "text/x-python",
   "name": "python",
   "nbconvert_exporter": "python",
   "pygments_lexer": "ipython3",
   "version": "3.9.7"
  }
 },
 "nbformat": 4,
 "nbformat_minor": 5
}
